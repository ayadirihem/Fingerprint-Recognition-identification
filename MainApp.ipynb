{
 "cells": [
  {
   "cell_type": "code",
   "execution_count": null,
   "id": "518af2d4",
   "metadata": {},
   "outputs": [],
   "source": [
    "%pip install ultralytics"
   ]
  },
  {
   "cell_type": "code",
   "execution_count": 1,
   "id": "d3d5ffee",
   "metadata": {},
   "outputs": [],
   "source": [
    "import tensorflow as tf\n",
    "from tensorflow.keras.applications.vgg16 import VGG16, preprocess_input\n",
    "from tensorflow.keras.preprocessing.image import load_img, img_to_array, ImageDataGenerator\n",
    "from tensorflow.keras.models import Model\n",
    "from keras.layers import Dense, Conv2D, Dropout, Flatten, MaxPooling2D, Input, GlobalAveragePooling2D\n",
    "!cd ..\n",
    "import keras.backend as k\n",
    "from keras.layers import Lambda\n",
    "\n",
    "from ultralytics import YOLO\n",
    "\n",
    "\n",
    "\n",
    "import matplotlib.pyplot as plt\n",
    "import os\n",
    "import numpy as np\n",
    "\n",
    "classif = tf.keras.models.load_model('saved_model/Feature_Extractor_Model')\n",
    "model = YOLO('./Yolov8_minutiae_detection.pt')\n",
    "model_vgg16 = VGG16(weights=\"imagenet\", include_top=\"false\")\n",
    "FeatureExtractor_model = Model(inputs=model_vgg16.inputs, outputs=model_vgg16.layers[-5].output)"
   ]
  },
  {
   "cell_type": "code",
   "execution_count": 2,
   "id": "36a6c2a3",
   "metadata": {},
   "outputs": [],
   "source": [
    "def extract_features_from_single_image(image_path):\n",
    "    # Load the image\n",
    "    image = load_img(image_path, target_size=(224, 224))\n",
    "    image_array = img_to_array(image)\n",
    "    image_array = preprocess_input(image_array)  # Apply appropriate preprocessing\n",
    "    \n",
    "    # Reshape and extract features\n",
    "    image_features = FeatureExtractor_model.predict(np.expand_dims(image_array, axis=0))\n",
    "    \n",
    "    return image_features"
   ]
  },
  {
   "cell_type": "code",
   "execution_count": 5,
   "id": "a9c0a8c2",
   "metadata": {},
   "outputs": [],
   "source": [
    "import cv2\n",
    "import matplotlib.pyplot as plt\n",
    "import numpy as np\n",
    "def detect_minuities(path):\n",
    "    img = cv2.imread(path)\n",
    "    img = cv2.cvtColor(img, cv2.COLOR_BGR2RGB)\n",
    "    img = fingerprint_enhancer.enhance_Fingerprint(img)\n",
    "    image_height, image_width,_ = img.shape\n",
    "    imag = 255 *np.ones((image_height, image_width, 3), dtype=np.uint8)\n",
    "    results = model.predict(img)\n",
    "    for r in results:\n",
    "        boxes = r.boxes\n",
    "        for box in boxes:\n",
    "            b = box.xyxy[0].cpu().numpy() # get box coordinates in (top, left, bottom, right) format\n",
    "            c = box.cls.cpu().numpy()[0]\n",
    "            top = b[0]\n",
    "            left = b[1]\n",
    "            bottom = b[2]\n",
    "            right = b[3]\n",
    "            cv2.rectangle(imag, (int(left), int(top)), (int(right), int(bottom)), (0, 255, 0), 2)\n",
    "            imag = cv2.putText(imag, Labels[int(c)], (int(left), int(top)),\n",
    "                        cv2.FONT_HERSHEY_PLAIN, 1, (220,20,60), 1)\n",
    "    return imag"
   ]
  },
  {
   "cell_type": "code",
   "execution_count": 11,
   "id": "b52e50d8",
   "metadata": {},
   "outputs": [
    {
     "name": "stdout",
     "output_type": "stream",
     "text": [
      " * Serving Flask app '__main__'\n",
      " * Debug mode: off\n"
     ]
    },
    {
     "name": "stderr",
     "output_type": "stream",
     "text": [
      "WARNING: This is a development server. Do not use it in a production deployment. Use a production WSGI server instead.\n",
      " * Running on all addresses (0.0.0.0)\n",
      " * Running on http://127.0.0.1:5000\n",
      " * Running on http://192.168.1.17:5000\n",
      "Press CTRL+C to quit\n"
     ]
    },
    {
     "name": "stdout",
     "output_type": "stream",
     "text": [
      "1/1 [==============================] - 0s 31ms/step\n",
      "1/1 [==============================] - 0s 26ms/step\n"
     ]
    },
    {
     "name": "stderr",
     "output_type": "stream",
     "text": [
      "192.168.1.17 - - [27/Sep/2023 14:08:58] \"POST /PassImage HTTP/1.1\" 200 -\n"
     ]
    },
    {
     "name": "stdout",
     "output_type": "stream",
     "text": [
      "Predicted pourcentage: [[  2.267e-36]]\n",
      "Predicted Label: Real\n",
      "1/1 [==============================] - 0s 49ms/step\n",
      "1/1 [==============================] - 0s 30ms/step\n"
     ]
    },
    {
     "name": "stderr",
     "output_type": "stream",
     "text": [
      "192.168.1.17 - - [27/Sep/2023 14:09:06] \"POST /PassImage HTTP/1.1\" 200 -\n"
     ]
    },
    {
     "name": "stdout",
     "output_type": "stream",
     "text": [
      "Predicted pourcentage: [[          0]]\n",
      "Predicted Label: Fake\n",
      "1/1 [==============================] - 0s 33ms/step\n",
      "1/1 [==============================] - 0s 24ms/step\n"
     ]
    },
    {
     "name": "stderr",
     "output_type": "stream",
     "text": [
      "192.168.1.17 - - [27/Sep/2023 14:10:10] \"POST /PassImage HTTP/1.1\" 200 -\n"
     ]
    },
    {
     "name": "stdout",
     "output_type": "stream",
     "text": [
      "Predicted pourcentage: [[  2.267e-36]]\n",
      "Predicted Label: Real\n",
      "1/1 [==============================] - 0s 45ms/step\n",
      "1/1 [==============================] - 0s 33ms/step\n"
     ]
    },
    {
     "name": "stderr",
     "output_type": "stream",
     "text": [
      "192.168.1.17 - - [27/Sep/2023 14:10:49] \"POST /PassImage HTTP/1.1\" 200 -\n"
     ]
    },
    {
     "name": "stdout",
     "output_type": "stream",
     "text": [
      "Predicted pourcentage: [[          0]]\n",
      "Predicted Label: Fake\n",
      "1/1 [==============================] - 0s 31ms/step\n",
      "1/1 [==============================] - 0s 21ms/step\n"
     ]
    },
    {
     "name": "stderr",
     "output_type": "stream",
     "text": [
      "192.168.1.17 - - [27/Sep/2023 14:10:59] \"POST /PassImage HTTP/1.1\" 200 -\n"
     ]
    },
    {
     "name": "stdout",
     "output_type": "stream",
     "text": [
      "Predicted pourcentage: [[  2.267e-36]]\n",
      "Predicted Label: Real\n",
      "1/1 [==============================] - 0s 35ms/step\n",
      "1/1 [==============================] - 0s 27ms/step\n"
     ]
    },
    {
     "name": "stderr",
     "output_type": "stream",
     "text": [
      "192.168.1.17 - - [27/Sep/2023 14:15:25] \"POST /PassImage HTTP/1.1\" 200 -\n"
     ]
    },
    {
     "name": "stdout",
     "output_type": "stream",
     "text": [
      "Predicted pourcentage: [[  2.267e-36]]\n",
      "Predicted Label: Real\n",
      "1/1 [==============================] - 0s 30ms/step\n",
      "1/1 [==============================] - 0s 27ms/step\n"
     ]
    },
    {
     "name": "stderr",
     "output_type": "stream",
     "text": [
      "192.168.1.17 - - [27/Sep/2023 14:16:15] \"POST /PassImage HTTP/1.1\" 200 -\n"
     ]
    },
    {
     "name": "stdout",
     "output_type": "stream",
     "text": [
      "Predicted pourcentage: [[  2.267e-36]]\n",
      "Predicted Label: Real\n",
      "1/1 [==============================] - 0s 28ms/step\n",
      "1/1 [==============================] - 0s 29ms/step\n"
     ]
    },
    {
     "name": "stderr",
     "output_type": "stream",
     "text": [
      "192.168.1.17 - - [27/Sep/2023 14:16:36] \"POST /PassImage HTTP/1.1\" 200 -\n"
     ]
    },
    {
     "name": "stdout",
     "output_type": "stream",
     "text": [
      "Predicted pourcentage: [[  2.267e-36]]\n",
      "Predicted Label: Real\n",
      "1/1 [==============================] - 0s 31ms/step\n",
      "1/1 [==============================] - 0s 31ms/step\n"
     ]
    },
    {
     "name": "stderr",
     "output_type": "stream",
     "text": [
      "192.168.1.17 - - [27/Sep/2023 14:17:25] \"POST /PassImage HTTP/1.1\" 200 -\n"
     ]
    },
    {
     "name": "stdout",
     "output_type": "stream",
     "text": [
      "Predicted pourcentage: [[  2.267e-36]]\n",
      "Predicted Label: Real\n",
      "1/1 [==============================] - 0s 29ms/step\n",
      "1/1 [==============================] - 0s 25ms/step\n"
     ]
    },
    {
     "name": "stderr",
     "output_type": "stream",
     "text": [
      "192.168.1.17 - - [27/Sep/2023 14:18:21] \"POST /PassImage HTTP/1.1\" 200 -\n"
     ]
    },
    {
     "name": "stdout",
     "output_type": "stream",
     "text": [
      "Predicted pourcentage: [[  2.267e-36]]\n",
      "Predicted Label: Real\n",
      "1/1 [==============================] - 0s 31ms/step\n",
      "1/1 [==============================] - 0s 25ms/step\n"
     ]
    },
    {
     "name": "stderr",
     "output_type": "stream",
     "text": [
      "192.168.1.17 - - [27/Sep/2023 14:18:39] \"POST /PassImage HTTP/1.1\" 200 -\n"
     ]
    },
    {
     "name": "stdout",
     "output_type": "stream",
     "text": [
      "Predicted pourcentage: [[          0]]\n",
      "Predicted Label: Fake\n",
      "1/1 [==============================] - 0s 27ms/step\n",
      "1/1 [==============================] - 0s 24ms/step\n"
     ]
    },
    {
     "name": "stderr",
     "output_type": "stream",
     "text": [
      "192.168.1.17 - - [27/Sep/2023 14:19:41] \"POST /PassImage HTTP/1.1\" 200 -\n"
     ]
    },
    {
     "name": "stdout",
     "output_type": "stream",
     "text": [
      "Predicted pourcentage: [[  2.267e-36]]\n",
      "Predicted Label: Real\n",
      "1/1 [==============================] - 0s 38ms/step\n",
      "1/1 [==============================] - 0s 57ms/step\n"
     ]
    },
    {
     "name": "stderr",
     "output_type": "stream",
     "text": [
      "192.168.1.17 - - [27/Sep/2023 14:27:06] \"POST /PassImage HTTP/1.1\" 200 -\n"
     ]
    },
    {
     "name": "stdout",
     "output_type": "stream",
     "text": [
      "Predicted pourcentage: [[          1]]\n",
      "Predicted Label: Real\n",
      "1/1 [==============================] - 0s 34ms/step\n",
      "1/1 [==============================] - 0s 23ms/step\n"
     ]
    },
    {
     "name": "stderr",
     "output_type": "stream",
     "text": [
      "192.168.1.17 - - [27/Sep/2023 14:27:07] \"POST /PassImage HTTP/1.1\" 200 -\n"
     ]
    },
    {
     "name": "stdout",
     "output_type": "stream",
     "text": [
      "Predicted pourcentage: [[          1]]\n",
      "Predicted Label: Real\n",
      "1/1 [==============================] - 0s 32ms/step\n",
      "1/1 [==============================] - 0s 24ms/step\n"
     ]
    },
    {
     "name": "stderr",
     "output_type": "stream",
     "text": [
      "192.168.1.17 - - [27/Sep/2023 14:27:20] \"POST /PassImage HTTP/1.1\" 200 -\n"
     ]
    },
    {
     "name": "stdout",
     "output_type": "stream",
     "text": [
      "Predicted pourcentage: [[          0]]\n",
      "Predicted Label: Fake\n",
      "1/1 [==============================] - 0s 46ms/step\n",
      "1/1 [==============================] - 0s 32ms/step\n"
     ]
    },
    {
     "name": "stderr",
     "output_type": "stream",
     "text": [
      "192.168.1.17 - - [27/Sep/2023 14:31:03] \"POST /PassImage HTTP/1.1\" 200 -\n"
     ]
    },
    {
     "name": "stdout",
     "output_type": "stream",
     "text": [
      "Predicted pourcentage: [[          1]]\n",
      "Predicted Label: Real\n",
      "1/1 [==============================] - 0s 29ms/step\n",
      "1/1 [==============================] - 0s 27ms/step\n"
     ]
    },
    {
     "name": "stderr",
     "output_type": "stream",
     "text": [
      "192.168.1.17 - - [27/Sep/2023 14:31:16] \"POST /PassImage HTTP/1.1\" 200 -\n"
     ]
    },
    {
     "name": "stdout",
     "output_type": "stream",
     "text": [
      "Predicted pourcentage: [[          0]]\n",
      "Predicted Label: Fake\n"
     ]
    }
   ],
   "source": [
    "from flask import Flask, request, jsonify\n",
    "import base64\n",
    "\n",
    "app = Flask(__name__)\n",
    "\n",
    "@app.route('/PassImage', methods=['POST'])\n",
    "def receive_image():\n",
    "    try:\n",
    "        # Get the JSON data from the request\n",
    "        json_data = request.get_json()\n",
    "        base64_image = json_data.get('image', '')\n",
    "        \n",
    "        # Decode the base64 string into bytes\n",
    "        image_data = base64.b64decode(base64_image)\n",
    "\n",
    "        # Save the image data to a file\n",
    "        with open(\"imageToSave.png\", \"wb\") as fh:\n",
    "            fh.write(image_data)\n",
    "            \n",
    "        # Extract features from the single image\n",
    "        single_image_features = extract_features_from_single_image(\"imageToSave.png\")\n",
    "\n",
    "        # Reshape the features to match the expected input shape of your prediction model\n",
    "        reshaped_features = np.reshape(single_image_features, (1, 7 * 7 * 512))\n",
    "\n",
    "        # Use the trained model to predict using the extracted features\n",
    "        prediction = classif.predict(reshaped_features)\n",
    "\n",
    "        # Convert the prediction probability to a binary label\n",
    "        predicted_label = \"Real\" if prediction > 0.5 else \"Fake\"\n",
    "\n",
    "        # Print the prediction\n",
    "        print(\"Predicted pourcentage:\", prediction)\n",
    "        print(\"Predicted Label:\", predicted_label)\n",
    "        res = 'success'\n",
    "        if predicted_label == \"Real\":\n",
    "            res = 'success'      \n",
    "            img = detect_minuities(\"imageToSave.png\")\n",
    "            image_filename = 'processed_image.png'\n",
    "            cv2.imwrite(image_filename,img)\n",
    "        else:\n",
    "            res = 'err'\n",
    "        return jsonify({'message': 'predicted_label', 'status': res, 'image_filename': image_filename}), 200\n",
    "    except Exception as e:\n",
    "        print(e)\n",
    "        return jsonify({'error': str(e), 'status': 'error'}), 400\n",
    "\n",
    "@app.route('/get_image/<image_filename>', methods=['GET'])\n",
    "def get_image(image_filename):\n",
    "    try:\n",
    "        # Retrieve and send the processed image to Android\n",
    "        return send_file(image_filename, mimetype='image/png')\n",
    "    except Exception as e:\n",
    "        return jsonify({'error': str(e), 'status': 'error'})\n",
    "    \n",
    "if __name__ == '__main__':\n",
    "    app.run(host='0.0.0.0', port=5000)\n"
   ]
  },
  {
   "cell_type": "code",
   "execution_count": 13,
   "id": "202141e5",
   "metadata": {},
   "outputs": [
    {
     "name": "stderr",
     "output_type": "stream",
     "text": [
      "Ultralytics YOLOv8.0.20  Python-3.9.12 torch-1.13.1 CUDA:0 (NVIDIA GeForce GTX 1650 with Max-Q Design, 4096MiB)\n",
      "Model summary (fused): 168 layers, 11126745 parameters, 0 gradients, 28.4 GFLOPs\n"
     ]
    }
   ],
   "source": [
    "from ultralytics.yolo.utils.plotting import Annotator\n",
    "from ultralytics import YOLO\n",
    "import cv2\n",
    "import matplotlib.pyplot as plt\n",
    "import numpy as np\n",
    "\n",
    "model = YOLO('./best.pt')\n",
    "img = cv2.imread('./101_2_jpg.rf.27d1ff8fd950cee6f3b4b1b4e3d8a598.jpg')\n",
    "img = cv2.cvtColor(out, cv2.COLOR_BGR2RGB)\n",
    "image_height, image_width,_ = img.shape\n",
    "image = np.zeros((image_height, image_width, 3), dtype=np.uint8)\n",
    "results = model.predict(img)\n"
   ]
  },
  {
   "cell_type": "code",
   "execution_count": 14,
   "id": "7745a7d3",
   "metadata": {},
   "outputs": [
    {
     "name": "stdout",
     "output_type": "stream",
     "text": [
      "[Ultralytics YOLO <class 'ultralytics.yolo.engine.results.Boxes'> masks\n",
      "type: <class 'torch.Tensor'>\n",
      "shape: torch.Size([0, 6])\n",
      "dtype: torch.float32\n",
      " + tensor([], device='cuda:0', size=(0, 6))]\n"
     ]
    }
   ],
   "source": [
    "print(results)"
   ]
  },
  {
   "cell_type": "code",
   "execution_count": 15,
   "id": "e46eb5c7",
   "metadata": {},
   "outputs": [
    {
     "name": "stdout",
     "output_type": "stream",
     "text": [
      "tensor([], device='cuda:0', size=(0, 6))\n"
     ]
    }
   ],
   "source": [
    "for r in results:\n",
    "    print(r)\n",
    "            "
   ]
  },
  {
   "cell_type": "code",
   "execution_count": 16,
   "id": "52553a80",
   "metadata": {},
   "outputs": [
    {
     "data": {
      "text/plain": [
       "-1"
      ]
     },
     "execution_count": 16,
     "metadata": {},
     "output_type": "execute_result"
    }
   ],
   "source": [
    "import fingerprint_enhancer                                # Load the library\n",
    "\n",
    "img = cv2.imread('./Fingerprint_DS/train/Real/1__M_Left_little_finger.BMP', 0)                      # read input image\n",
    "\n",
    "out = fingerprint_enhancer.enhance_Fingerprint(img)        # enhance the fingerprint image\n",
    "\n",
    "cv2.imshow('enhanced_image', out);                     # display the result\n",
    "\n",
    "cv2.waitKey(0)"
   ]
  },
  {
   "cell_type": "code",
   "execution_count": null,
   "id": "8cf67aed",
   "metadata": {},
   "outputs": [],
   "source": []
  }
 ],
 "metadata": {
  "kernelspec": {
   "display_name": "Python 3 (ipykernel)",
   "language": "python",
   "name": "python3"
  },
  "language_info": {
   "codemirror_mode": {
    "name": "ipython",
    "version": 3
   },
   "file_extension": ".py",
   "mimetype": "text/x-python",
   "name": "python",
   "nbconvert_exporter": "python",
   "pygments_lexer": "ipython3",
   "version": "3.9.12"
  }
 },
 "nbformat": 4,
 "nbformat_minor": 5
}
